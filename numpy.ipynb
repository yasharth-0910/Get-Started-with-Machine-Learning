{
 "cells": [
  {
   "cell_type": "markdown",
   "metadata": {},
   "source": [
    "Learning about Numpy\n"
   ]
  },
  {
   "cell_type": "code",
   "execution_count": 2,
   "metadata": {},
   "outputs": [],
   "source": [
    "import numpy as np"
   ]
  },
  {
   "cell_type": "code",
   "execution_count": 3,
   "metadata": {},
   "outputs": [
    {
     "name": "stdout",
     "output_type": "stream",
     "text": [
      "Learning Numpy\n"
     ]
    }
   ],
   "source": [
    "print(\"Learning Numpy\")"
   ]
  },
  {
   "cell_type": "markdown",
   "metadata": {},
   "source": [
    "Basics"
   ]
  },
  {
   "cell_type": "code",
   "execution_count": 4,
   "metadata": {},
   "outputs": [
    {
     "name": "stdout",
     "output_type": "stream",
     "text": [
      "[1 2 3]\n"
     ]
    }
   ],
   "source": [
    "a = np.array([1, 2, 3])\n",
    "print(a)"
   ]
  },
  {
   "cell_type": "code",
   "execution_count": 5,
   "metadata": {},
   "outputs": [
    {
     "name": "stdout",
     "output_type": "stream",
     "text": [
      "[[9. 8. 7.]\n",
      " [6. 5. 4.]]\n"
     ]
    }
   ],
   "source": [
    "b = np.array([[9.0, 8.0, 7.0], [6.0, 5.0, 4.0]])\n",
    "print(b)"
   ]
  },
  {
   "cell_type": "code",
   "execution_count": 6,
   "metadata": {},
   "outputs": [
    {
     "name": "stdout",
     "output_type": "stream",
     "text": [
      "1\n",
      "2\n"
     ]
    }
   ],
   "source": [
    "#Get Dimension\n",
    "\n",
    "print(a.ndim)\n",
    "print(b.ndim)"
   ]
  },
  {
   "cell_type": "code",
   "execution_count": 7,
   "metadata": {},
   "outputs": [
    {
     "name": "stdout",
     "output_type": "stream",
     "text": [
      "(3,)\n",
      "(2, 3)\n",
      "int64\n",
      "float64\n",
      "8\n",
      "8\n",
      "3\n",
      "6\n"
     ]
    }
   ],
   "source": [
    "#Get Shape\n",
    "\n",
    "print(a.shape)\n",
    "print(b.shape) #2 rows, 3 columns\n",
    "\n",
    "#Get Type\n",
    "\n",
    "print(a.dtype)\n",
    "print(b.dtype)\n",
    "\n",
    "#Get Size\n",
    "\n",
    "print(a.itemsize)\n",
    "print(b.itemsize)\n",
    "\n",
    "#Get Total Size\n",
    "\n",
    "print(a.size)\n",
    "print(b.size)"
   ]
  },
  {
   "cell_type": "markdown",
   "metadata": {},
   "source": [
    "Accessing/Chaning specific elements,rows,coloumns, etc"
   ]
  },
  {
   "cell_type": "code",
   "execution_count": 8,
   "metadata": {},
   "outputs": [
    {
     "name": "stdout",
     "output_type": "stream",
     "text": [
      "[[ 1  2  3  4  5  6  7]\n",
      " [ 8  9 10 11 12 13 14]\n",
      " [15 16 17 18 19 20 21]]\n"
     ]
    }
   ],
   "source": [
    "c = np.array([[1, 2, 3, 4, 5, 6, 7], [8, 9, 10, 11, 12, 13, 14],[15, 16, 17, 18, 19, 20, 21]])\n",
    "print(c) "
   ]
  },
  {
   "cell_type": "code",
   "execution_count": 9,
   "metadata": {},
   "outputs": [
    {
     "data": {
      "text/plain": [
       "(3,)"
      ]
     },
     "execution_count": 9,
     "metadata": {},
     "output_type": "execute_result"
    }
   ],
   "source": [
    "a.shape"
   ]
  },
  {
   "cell_type": "code",
   "execution_count": 12,
   "metadata": {},
   "outputs": [
    {
     "name": "stdout",
     "output_type": "stream",
     "text": [
      "14\n"
     ]
    }
   ],
   "source": [
    "#Get a specific element [row, column]\n",
    "\n",
    "print(c[1, 6])"
   ]
  },
  {
   "cell_type": "code",
   "execution_count": 13,
   "metadata": {},
   "outputs": [
    {
     "name": "stdout",
     "output_type": "stream",
     "text": [
      "[1 2 3 4 5 6 7]\n"
     ]
    }
   ],
   "source": [
    "#Get a specific row\n",
    "\n",
    "print(c[0, :])"
   ]
  },
  {
   "cell_type": "code",
   "execution_count": 14,
   "metadata": {},
   "outputs": [
    {
     "name": "stdout",
     "output_type": "stream",
     "text": [
      "[ 3 10 17]\n"
     ]
    }
   ],
   "source": [
    "#Get a specific column\n",
    "\n",
    "print(c[:, 2])"
   ]
  },
  {
   "cell_type": "code",
   "execution_count": 15,
   "metadata": {},
   "outputs": [
    {
     "name": "stdout",
     "output_type": "stream",
     "text": [
      "[2 4 6]\n"
     ]
    }
   ],
   "source": [
    "#Getting a little more fancy [startindex:endindex:stepsize]\n",
    "\n",
    "print(c[0, 1:6:2])  #start at index 1 and go up to index 6, step size of 2"
   ]
  },
  {
   "cell_type": "code",
   "execution_count": 18,
   "metadata": {},
   "outputs": [
    {
     "name": "stdout",
     "output_type": "stream",
     "text": [
      "[[ 1  2  3  4  5  6  7]\n",
      " [ 8  9 10 11 12 69 14]\n",
      " [15 16 17 18 19 20 21]]\n"
     ]
    }
   ],
   "source": [
    "#Change an element\n",
    "\n",
    "c[1, 5] = 69\n",
    "print(c)"
   ]
  },
  {
   "cell_type": "code",
   "execution_count": 23,
   "metadata": {},
   "outputs": [
    {
     "name": "stdout",
     "output_type": "stream",
     "text": [
      "[[ 1  2  1  4  5  6  7]\n",
      " [ 8  9  2 11 12 69 14]\n",
      " [15 16  3 18 19 20 21]]\n",
      "3D Example\n",
      "[[[1 2]\n",
      "  [3 4]]\n",
      "\n",
      " [[5 6]\n",
      "  [7 8]]]\n"
     ]
    }
   ],
   "source": [
    "#Change a column\n",
    "\n",
    "c[:, 2] = [1, 2, 3]\n",
    "print(c)\n",
    "\n",
    "#3D Example\n",
    "\n",
    "print(\"3D Example\")\n",
    "\n",
    "d = np.array([[[1, 2], [3, 4]], [[5, 6], [7, 8]]])\n",
    "print(d)\n"
   ]
  },
  {
   "cell_type": "markdown",
   "metadata": {},
   "source": [
    "Iniatilzing diff types of Arrays\n"
   ]
  },
  {
   "cell_type": "code",
   "execution_count": 25,
   "metadata": {},
   "outputs": [
    {
     "name": "stdout",
     "output_type": "stream",
     "text": [
      "[0. 0. 0. 0. 0.]\n",
      "[[0. 0. 0.]\n",
      " [0. 0. 0.]]\n"
     ]
    }
   ],
   "source": [
    "e = np.zeros(5)\n",
    "\n",
    "print(e)\n",
    "\n",
    "f= np.zeros((2, 3))\n",
    "print(f)\n"
   ]
  },
  {
   "cell_type": "code",
   "execution_count": 28,
   "metadata": {},
   "outputs": [
    {
     "data": {
      "text/plain": [
       "array([[59, 59, 59],\n",
       "       [59, 59, 59],\n",
       "       [59, 59, 59]])"
      ]
     },
     "execution_count": 28,
     "metadata": {},
     "output_type": "execute_result"
    }
   ],
   "source": [
    "np.full((3, 3), 59)\n",
    "\n"
   ]
  },
  {
   "cell_type": "code",
   "execution_count": 29,
   "metadata": {},
   "outputs": [
    {
     "data": {
      "text/plain": [
       "array([[4., 4., 4.],\n",
       "       [4., 4., 4.]])"
      ]
     },
     "execution_count": 29,
     "metadata": {},
     "output_type": "execute_result"
    }
   ],
   "source": [
    "np.full_like(f, 4)  #Create an array like f, but fill it with 4s"
   ]
  },
  {
   "cell_type": "code",
   "execution_count": 30,
   "metadata": {},
   "outputs": [
    {
     "data": {
      "text/plain": [
       "array([[0.13930524, 0.88801201],\n",
       "       [0.08563232, 0.96999138],\n",
       "       [0.41701797, 0.89898163],\n",
       "       [0.56792019, 0.24550933]])"
      ]
     },
     "execution_count": 30,
     "metadata": {},
     "output_type": "execute_result"
    }
   ],
   "source": [
    "#Random decimal numbers\n",
    "\n",
    "np.random.rand(4, 2)"
   ]
  },
  {
   "cell_type": "code",
   "execution_count": 45,
   "metadata": {},
   "outputs": [
    {
     "data": {
      "text/plain": [
       "array([[21, 60,  2],\n",
       "       [64,  3, 56],\n",
       "       [16, 34, 51]], dtype=int32)"
      ]
     },
     "execution_count": 45,
     "metadata": {},
     "output_type": "execute_result"
    }
   ],
   "source": [
    "np.random.randint(70, size=(3, 3))  #Random integers from 0 to 7"
   ]
  },
  {
   "cell_type": "code",
   "execution_count": 46,
   "metadata": {},
   "outputs": [
    {
     "data": {
      "text/plain": [
       "array([[1., 0., 0., 0., 0.],\n",
       "       [0., 1., 0., 0., 0.],\n",
       "       [0., 0., 1., 0., 0.],\n",
       "       [0., 0., 0., 1., 0.],\n",
       "       [0., 0., 0., 0., 1.]])"
      ]
     },
     "execution_count": 46,
     "metadata": {},
     "output_type": "execute_result"
    }
   ],
   "source": [
    "np.identity(5)  #Create an identity matrix"
   ]
  },
  {
   "cell_type": "code",
   "execution_count": 48,
   "metadata": {},
   "outputs": [
    {
     "name": "stdout",
     "output_type": "stream",
     "text": [
      "[[1 2 3]\n",
      " [1 2 3]\n",
      " [1 2 3]]\n"
     ]
    }
   ],
   "source": [
    "arr = np.array([[1, 2, 3]])\n",
    "r1 = np.repeat(arr, 3, axis=0)\n",
    "\n",
    "print(r1)"
   ]
  },
  {
   "cell_type": "code",
   "execution_count": 58,
   "metadata": {},
   "outputs": [
    {
     "name": "stdout",
     "output_type": "stream",
     "text": [
      "[[1. 1. 1. 1. 1.]\n",
      " [1. 1. 1. 1. 1.]\n",
      " [1. 1. 1. 1. 1.]\n",
      " [1. 1. 1. 1. 1.]\n",
      " [1. 1. 1. 1. 1.]]\n",
      "Z will be:\n",
      "[[0. 0. 0.]\n",
      " [0. 9. 0.]\n",
      " [0. 0. 0.]]\n",
      "Output will be:\n",
      "[[1. 1. 1. 1. 1.]\n",
      " [1. 0. 0. 0. 1.]\n",
      " [1. 0. 9. 0. 1.]\n",
      " [1. 0. 0. 0. 1.]\n",
      " [1. 1. 1. 1. 1.]]\n"
     ]
    }
   ],
   "source": [
    "output = np.ones((5, 5))\n",
    "print(output)\n",
    "\n",
    "print(\"Z will be:\")\n",
    "\n",
    "z = np.zeros((3, 3))\n",
    "z[1, 1] = 9\n",
    "print(z)\n",
    "\n",
    "print(\"Output will be:\")\n",
    "\n",
    "output[1:4, 1:4] = z\n",
    "print(output)\n"
   ]
  },
  {
   "cell_type": "markdown",
   "metadata": {},
   "source": [
    "Mathmatics/Arithmetics Operations\n"
   ]
  },
  {
   "cell_type": "code",
   "execution_count": 64,
   "metadata": {},
   "outputs": [
    {
     "name": "stdout",
     "output_type": "stream",
     "text": [
      "[5 7 9]\n",
      "[-3 -3 -3]\n",
      "[ 4 10 18]\n",
      "[0.25 0.4  0.5 ]\n",
      "[ 5  9 15]\n",
      "[1 2 3]\n"
     ]
    }
   ],
   "source": [
    "z = np.array([1, 2, 3])\n",
    "y = np.array([4, 5, 6])\n",
    "\n",
    "print(z + y)\n",
    "print(z - y)\n",
    "print(z * y)\n",
    "print(z / y)\n",
    "print(z**2 + y)\n"
   ]
  },
  {
   "cell_type": "code",
   "execution_count": 65,
   "metadata": {},
   "outputs": [
    {
     "name": "stdout",
     "output_type": "stream",
     "text": [
      "[-1  0  1]\n"
     ]
    }
   ],
   "source": [
    "new = z - 2\n",
    "print(new)"
   ]
  },
  {
   "cell_type": "markdown",
   "metadata": {},
   "source": [
    "Trignometry\n"
   ]
  },
  {
   "cell_type": "code",
   "execution_count": 68,
   "metadata": {},
   "outputs": [
    {
     "name": "stdout",
     "output_type": "stream",
     "text": [
      "[0.84147098 0.90929743 0.14112001]\n",
      "[[1.55740772 1.55740772 1.55740772]\n",
      " [1.55740772 1.55740772 1.55740772]]\n"
     ]
    }
   ],
   "source": [
    "#Take the sin of all the values in the array\n",
    "\n",
    "print(np.sin(z))\n",
    "\n",
    "\n",
    "u = np.ones((2, 3))\n",
    "print(np.tan(u))"
   ]
  },
  {
   "cell_type": "markdown",
   "metadata": {},
   "source": [
    "Linear Algebra"
   ]
  },
  {
   "cell_type": "code",
   "execution_count": 72,
   "metadata": {},
   "outputs": [
    {
     "name": "stdout",
     "output_type": "stream",
     "text": [
      "[1 2 3 4]\n",
      "[2 3 4 5]\n",
      "[[2. 2.]\n",
      " [2. 2.]\n",
      " [2. 2.]]\n"
     ]
    }
   ],
   "source": [
    "a = np.array([1, 2, 3, 4])\n",
    "print(a)\n",
    "\n",
    "print(a + 1)\n",
    "\n",
    "b = np.ones((3,2)) + 1  #(row, column)\n",
    "print(b)"
   ]
  },
  {
   "cell_type": "code",
   "execution_count": 85,
   "metadata": {},
   "outputs": [
    {
     "name": "stdout",
     "output_type": "stream",
     "text": [
      "1\n",
      "6\n",
      "[5 7 9]\n",
      "[ 6 15]\n",
      "[[1 2 3 4]\n",
      " [5 6 7 8]]\n",
      "[[1]\n",
      " [2]\n",
      " [3]\n",
      " [4]\n",
      " [5]\n",
      " [6]\n",
      " [7]\n",
      " [8]]\n"
     ]
    }
   ],
   "source": [
    "\n",
    "#Statistics\n",
    "\n",
    "stats = np.array([[1, 2, 3], [4, 5, 6]])\n",
    "\n",
    "print(np.min(stats))\n",
    "print(np.max(stats))\n",
    "print(np.sum(stats, axis=0))  #Sum of columns\n",
    "print(np.sum(stats, axis=1))  #Sum of rows\n",
    "\n",
    "#Reorganizing Arrays\n",
    "\n",
    "before = np.array([[1, 2, 3, 4], [5, 6, 7, 8]])\n",
    "print(before)\n",
    "\n",
    "after = before.reshape((8, 1))\n",
    "print(after)\n",
    "\n"
   ]
  },
  {
   "cell_type": "code",
   "execution_count": 88,
   "metadata": {},
   "outputs": [
    {
     "data": {
      "text/plain": [
       "array([[1., 1., 1., 1., 0., 0.],\n",
       "       [1., 1., 1., 1., 0., 0.]])"
      ]
     },
     "execution_count": 88,
     "metadata": {},
     "output_type": "execute_result"
    }
   ],
   "source": [
    "\n",
    "#Vertically stacking vectors\n",
    "\n",
    "v1 = np.array([1, 2, 3, 4])\n",
    "v2 = np.array([5, 6, 7, 8])\n",
    "\n",
    "np.vstack([v1, v2, v1, v2])\n",
    "\n",
    "#Horizontal stack\n",
    "\n",
    "h1 = np.ones((2, 4))\n",
    "h2 = np.zeros((2, 2))\n",
    "\n",
    "np.hstack((h1, h2))\n"
   ]
  },
  {
   "cell_type": "code",
   "execution_count": null,
   "metadata": {},
   "outputs": [
    {
     "ename": "ValueError",
     "evalue": "Some errors were detected !\n    Line #2 (got 1 columns instead of 9)\n    Line #3 (got 1 columns instead of 9)\n    Line #4 (got 1 columns instead of 9)\n    Line #6 (got 1 columns instead of 9)\n    Line #7 (got 3 columns instead of 9)\n    Line #8 (got 2 columns instead of 9)\n    Line #9 (got 2 columns instead of 9)\n    Line #10 (got 1 columns instead of 9)\n    Line #11 (got 1 columns instead of 9)\n    Line #12 (got 1 columns instead of 9)\n    Line #13 (got 1 columns instead of 9)\n    Line #14 (got 1 columns instead of 9)\n    Line #15 (got 2 columns instead of 9)\n    Line #17 (got 1 columns instead of 9)\n    Line #18 (got 2 columns instead of 9)\n    Line #19 (got 1 columns instead of 9)\n    Line #20 (got 1 columns instead of 9)\n    Line #21 (got 1 columns instead of 9)\n    Line #22 (got 1 columns instead of 9)\n    Line #25 (got 1 columns instead of 9)\n    Line #28 (got 1 columns instead of 9)\n    Line #29 (got 1 columns instead of 9)\n    Line #31 (got 1 columns instead of 9)\n    Line #34 (got 6 columns instead of 9)\n    Line #37 (got 1 columns instead of 9)\n    Line #38 (got 1 columns instead of 9)\n    Line #41 (got 1 columns instead of 9)\n    Line #42 (got 5 columns instead of 9)\n    Line #43 (got 1 columns instead of 9)\n    Line #46 (got 1 columns instead of 9)\n    Line #47 (got 1 columns instead of 9)\n    Line #48 (got 1 columns instead of 9)\n    Line #50 (got 4 columns instead of 9)",
     "output_type": "error",
     "traceback": [
      "\u001b[1;31m---------------------------------------------------------------------------\u001b[0m",
      "\u001b[1;31mValueError\u001b[0m                                Traceback (most recent call last)",
      "Cell \u001b[1;32mIn[91], line 3\u001b[0m\n\u001b[0;32m      1\u001b[0m \u001b[38;5;66;03m#Load data from file\u001b[39;00m\n\u001b[1;32m----> 3\u001b[0m filedata \u001b[38;5;241m=\u001b[39m \u001b[43mnp\u001b[49m\u001b[38;5;241;43m.\u001b[39;49m\u001b[43mgenfromtxt\u001b[49m\u001b[43m(\u001b[49m\u001b[38;5;124;43m'\u001b[39;49m\u001b[38;5;124;43mwow.py\u001b[39;49m\u001b[38;5;124;43m'\u001b[39;49m\u001b[43m,\u001b[49m\u001b[43m \u001b[49m\u001b[43mdelimiter\u001b[49m\u001b[38;5;241;43m=\u001b[39;49m\u001b[38;5;124;43m'\u001b[39;49m\u001b[38;5;124;43m,\u001b[39;49m\u001b[38;5;124;43m'\u001b[39;49m\u001b[43m)\u001b[49m \u001b[38;5;66;03m#delimiter is the separator in the file meaning the data is separated by commas\u001b[39;00m\n\u001b[0;32m      4\u001b[0m filedata \u001b[38;5;241m=\u001b[39m filedata\u001b[38;5;241m.\u001b[39mastype(\u001b[38;5;124m'\u001b[39m\u001b[38;5;124mint32\u001b[39m\u001b[38;5;124m'\u001b[39m)\n\u001b[0;32m      5\u001b[0m \u001b[38;5;28mprint\u001b[39m(filedata)\n",
      "File \u001b[1;32mc:\\Users\\yasha\\AppData\\Local\\Programs\\Python\\Python313\\Lib\\site-packages\\numpy\\lib\\_npyio_impl.py:2333\u001b[0m, in \u001b[0;36mgenfromtxt\u001b[1;34m(fname, dtype, comments, delimiter, skip_header, skip_footer, converters, missing_values, filling_values, usecols, names, excludelist, deletechars, replace_space, autostrip, case_sensitive, defaultfmt, unpack, usemask, loose, invalid_raise, max_rows, encoding, ndmin, like)\u001b[0m\n\u001b[0;32m   2331\u001b[0m \u001b[38;5;66;03m# Raise an exception ?\u001b[39;00m\n\u001b[0;32m   2332\u001b[0m \u001b[38;5;28;01mif\u001b[39;00m invalid_raise:\n\u001b[1;32m-> 2333\u001b[0m     \u001b[38;5;28;01mraise\u001b[39;00m \u001b[38;5;167;01mValueError\u001b[39;00m(errmsg)\n\u001b[0;32m   2334\u001b[0m \u001b[38;5;66;03m# Issue a warning ?\u001b[39;00m\n\u001b[0;32m   2335\u001b[0m \u001b[38;5;28;01melse\u001b[39;00m:\n\u001b[0;32m   2336\u001b[0m     warnings\u001b[38;5;241m.\u001b[39mwarn(errmsg, ConversionWarning, stacklevel\u001b[38;5;241m=\u001b[39m\u001b[38;5;241m2\u001b[39m)\n",
      "\u001b[1;31mValueError\u001b[0m: Some errors were detected !\n    Line #2 (got 1 columns instead of 9)\n    Line #3 (got 1 columns instead of 9)\n    Line #4 (got 1 columns instead of 9)\n    Line #6 (got 1 columns instead of 9)\n    Line #7 (got 3 columns instead of 9)\n    Line #8 (got 2 columns instead of 9)\n    Line #9 (got 2 columns instead of 9)\n    Line #10 (got 1 columns instead of 9)\n    Line #11 (got 1 columns instead of 9)\n    Line #12 (got 1 columns instead of 9)\n    Line #13 (got 1 columns instead of 9)\n    Line #14 (got 1 columns instead of 9)\n    Line #15 (got 2 columns instead of 9)\n    Line #17 (got 1 columns instead of 9)\n    Line #18 (got 2 columns instead of 9)\n    Line #19 (got 1 columns instead of 9)\n    Line #20 (got 1 columns instead of 9)\n    Line #21 (got 1 columns instead of 9)\n    Line #22 (got 1 columns instead of 9)\n    Line #25 (got 1 columns instead of 9)\n    Line #28 (got 1 columns instead of 9)\n    Line #29 (got 1 columns instead of 9)\n    Line #31 (got 1 columns instead of 9)\n    Line #34 (got 6 columns instead of 9)\n    Line #37 (got 1 columns instead of 9)\n    Line #38 (got 1 columns instead of 9)\n    Line #41 (got 1 columns instead of 9)\n    Line #42 (got 5 columns instead of 9)\n    Line #43 (got 1 columns instead of 9)\n    Line #46 (got 1 columns instead of 9)\n    Line #47 (got 1 columns instead of 9)\n    Line #48 (got 1 columns instead of 9)\n    Line #50 (got 4 columns instead of 9)"
     ]
    }
   ],
   "source": [
    "\n",
    "#Load data from file\n",
    "\n",
    "filedata = np.genfromtxt('data.csv', delimiter=',') #delimiter is the separator in the file meaning the data is separated by commas\n",
    "filedata = filedata.astype('int32')\n",
    "print(filedata)\n",
    "\n"
   ]
  },
  {
   "cell_type": "code",
   "execution_count": null,
   "metadata": {},
   "outputs": [],
   "source": [
    "#Boolean Masking and Advanced Indexing\n",
    "\n",
    "filedata > 50\n",
    "\n",
    "filedata[filedata > 50]\n",
    "\n",
    "np.any(filedata > 50, axis=0)\n",
    "\n",
    "((filedata > 50) & (filedata < 100))\n",
    "\n",
    "(~((filedata > 50) & (filedata < 100)))\n",
    "\n",
    "np.all(filedata > 50, axis=0)\n",
    "\n",
    "((filedata > 50) & (filedata < 100))\n",
    "\n",
    "print(filedata[(filedata > 50) & (filedata < 100)])\n",
    "\n",
    "\n",
    "#the following code snippet will print the values in the first column of the filedata array, where the values in the second column are greater than 50\n",
    "\n"
   ]
  }
 ],
 "metadata": {
  "kernelspec": {
   "display_name": "Python 3",
   "language": "python",
   "name": "python3"
  },
  "language_info": {
   "codemirror_mode": {
    "name": "ipython",
    "version": 3
   },
   "file_extension": ".py",
   "mimetype": "text/x-python",
   "name": "python",
   "nbconvert_exporter": "python",
   "pygments_lexer": "ipython3",
   "version": "3.13.1"
  }
 },
 "nbformat": 4,
 "nbformat_minor": 2
}
